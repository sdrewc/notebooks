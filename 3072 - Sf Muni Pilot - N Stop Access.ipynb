{
 "cells": [
  {
   "cell_type": "code",
   "execution_count": 1,
   "metadata": {
    "collapsed": true
   },
   "outputs": [],
   "source": [
    "import sys, os\n",
    "import numpy as np\n",
    "import pandas as pd"
   ]
  },
  {
   "cell_type": "code",
   "execution_count": 2,
   "metadata": {
    "collapsed": true
   },
   "outputs": [],
   "source": [
    "INDIR = r'C:\\Users\\sdrew_000\\Downloads\\network_draft1.9\\network_draft1.9'"
   ]
  },
  {
   "cell_type": "code",
   "execution_count": 3,
   "metadata": {
    "collapsed": true
   },
   "outputs": [],
   "source": [
    "walk_access = pd.read_csv(os.path.join(INDIR,'walk_access_ft.txt'))\n",
    "routes = pd.read_csv(os.path.join(INDIR,'routes.txt'))\n",
    "stop_times = pd.read_csv(os.path.join(INDIR,'stop_times.txt'))\n",
    "stops = pd.read_csv(os.path.join(INDIR,'stops.txt'))\n",
    "trips = pd.read_csv(os.path.join(INDIR,'trips.txt'))"
   ]
  },
  {
   "cell_type": "code",
   "execution_count": 4,
   "metadata": {
    "collapsed": false
   },
   "outputs": [],
   "source": [
    "taz475_access = walk_access.loc[walk_access['taz'].eq(475),:]"
   ]
  },
  {
   "cell_type": "code",
   "execution_count": 5,
   "metadata": {
    "collapsed": false
   },
   "outputs": [],
   "source": [
    "nstops_all = pd.merge(trips.loc[trips['route_id'].eq('sf_muni_N')],stop_times, on='trip_id')"
   ]
  },
  {
   "cell_type": "code",
   "execution_count": 6,
   "metadata": {
    "collapsed": false
   },
   "outputs": [],
   "source": [
    "nstops = stops.loc[stops['stop_id'].isin(nstops_all['stop_id'].drop_duplicates().tolist()),:]"
   ]
  },
  {
   "cell_type": "code",
   "execution_count": 7,
   "metadata": {
    "collapsed": false
   },
   "outputs": [
    {
     "data": {
      "text/html": [
       "<div>\n",
       "<table border=\"1\" class=\"dataframe\">\n",
       "  <thead>\n",
       "    <tr style=\"text-align: right;\">\n",
       "      <th></th>\n",
       "      <th>taz</th>\n",
       "      <th>stop_id</th>\n",
       "      <th>dist</th>\n",
       "      <th>elevation_gain</th>\n",
       "      <th>population_density</th>\n",
       "      <th>employment_density</th>\n",
       "      <th>auto_capacity</th>\n",
       "      <th>indirectness</th>\n",
       "      <th>stop_name</th>\n",
       "      <th>stop_lat</th>\n",
       "      <th>stop_lon</th>\n",
       "      <th>zone_id</th>\n",
       "    </tr>\n",
       "  </thead>\n",
       "  <tbody>\n",
       "    <tr>\n",
       "      <th>0</th>\n",
       "      <td>475</td>\n",
       "      <td>27725</td>\n",
       "      <td>0.92</td>\n",
       "      <td>76.169808</td>\n",
       "      <td>31.725681</td>\n",
       "      <td>4.605070</td>\n",
       "      <td>700.0</td>\n",
       "      <td>1.113041</td>\n",
       "      <td>Judah/34th</td>\n",
       "      <td>37.760992</td>\n",
       "      <td>-122.493068</td>\n",
       "      <td>NaN</td>\n",
       "    </tr>\n",
       "    <tr>\n",
       "      <th>1</th>\n",
       "      <td>475</td>\n",
       "      <td>27712</td>\n",
       "      <td>1.00</td>\n",
       "      <td>76.169808</td>\n",
       "      <td>31.725681</td>\n",
       "      <td>4.605070</td>\n",
       "      <td>700.0</td>\n",
       "      <td>1.113041</td>\n",
       "      <td>Judah/31st</td>\n",
       "      <td>37.761134</td>\n",
       "      <td>-122.489853</td>\n",
       "      <td>NaN</td>\n",
       "    </tr>\n",
       "    <tr>\n",
       "      <th>2</th>\n",
       "      <td>475</td>\n",
       "      <td>27735</td>\n",
       "      <td>0.95</td>\n",
       "      <td>33.770880</td>\n",
       "      <td>27.641316</td>\n",
       "      <td>3.568725</td>\n",
       "      <td>700.0</td>\n",
       "      <td>1.250052</td>\n",
       "      <td>Sunset/Judah</td>\n",
       "      <td>37.760874</td>\n",
       "      <td>-122.495749</td>\n",
       "      <td>NaN</td>\n",
       "    </tr>\n",
       "  </tbody>\n",
       "</table>\n",
       "</div>"
      ],
      "text/plain": [
       "   taz  stop_id  dist  elevation_gain  population_density  employment_density  \\\n",
       "0  475    27725  0.92       76.169808           31.725681            4.605070   \n",
       "1  475    27712  1.00       76.169808           31.725681            4.605070   \n",
       "2  475    27735  0.95       33.770880           27.641316            3.568725   \n",
       "\n",
       "   auto_capacity  indirectness     stop_name   stop_lat    stop_lon zone_id  \n",
       "0          700.0      1.113041    Judah/34th  37.760992 -122.493068     NaN  \n",
       "1          700.0      1.113041    Judah/31st  37.761134 -122.489853     NaN  \n",
       "2          700.0      1.250052  Sunset/Judah  37.760874 -122.495749     NaN  "
      ]
     },
     "execution_count": 7,
     "metadata": {},
     "output_type": "execute_result"
    }
   ],
   "source": [
    "pd.merge(taz475_access, nstops, on='stop_id')"
   ]
  }
 ],
 "metadata": {
  "kernelspec": {
   "display_name": "Python [Root]",
   "language": "python",
   "name": "Python [Root]"
  },
  "language_info": {
   "codemirror_mode": {
    "name": "ipython",
    "version": 2
   },
   "file_extension": ".py",
   "mimetype": "text/x-python",
   "name": "python",
   "nbconvert_exporter": "python",
   "pygments_lexer": "ipython2",
   "version": "2.7.12"
  }
 },
 "nbformat": 4,
 "nbformat_minor": 0
}
