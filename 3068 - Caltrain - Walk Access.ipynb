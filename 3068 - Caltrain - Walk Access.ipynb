{
 "cells": [
  {
   "cell_type": "code",
   "execution_count": 1,
   "metadata": {
    "collapsed": true
   },
   "outputs": [],
   "source": [
    "import sys, os\n",
    "import numpy as np\n",
    "import pandas as pd"
   ]
  },
  {
   "cell_type": "code",
   "execution_count": 2,
   "metadata": {
    "collapsed": true
   },
   "outputs": [],
   "source": [
    "INDIR = r'Q:\\Model Development\\SHRP2-fasttrips\\Task2\\built_fasttrips_network_2012Base\\draft1.9'"
   ]
  },
  {
   "cell_type": "code",
   "execution_count": 10,
   "metadata": {
    "collapsed": true
   },
   "outputs": [],
   "source": [
    "walk_access = pd.read_csv(os.path.join(INDIR,'walk_access_ft.txt'))\n",
    "routes = pd.read_csv(os.path.join(INDIR,'routes.txt'))\n",
    "stop_times = pd.read_csv(os.path.join(INDIR,'stop_times.txt'))\n",
    "stops = pd.read_csv(os.path.join(INDIR,'stops.txt'))\n",
    "trips = pd.read_csv(os.path.join(INDIR,'trips.txt'))\n",
    "transfers = pd.read_csv(os.path.join(INDIR,'transfers.txt'))"
   ]
  },
  {
   "cell_type": "code",
   "execution_count": 4,
   "metadata": {
    "collapsed": false
   },
   "outputs": [],
   "source": [
    "caltrain_routes = routes.loc[routes['agency_id'].eq('caltrain')]['route_id'].tolist()"
   ]
  },
  {
   "cell_type": "code",
   "execution_count": 5,
   "metadata": {
    "collapsed": false
   },
   "outputs": [],
   "source": [
    "caltrain_stops_all = pd.merge(trips.loc[trips['route_id'].isin(caltrain_routes)],stop_times, on='trip_id')"
   ]
  },
  {
   "cell_type": "code",
   "execution_count": 6,
   "metadata": {
    "collapsed": false
   },
   "outputs": [],
   "source": [
    "caltrain_stops = stops.loc[stops['stop_id'].isin(caltrain_stops_all['stop_id'].drop_duplicates().tolist()),:]"
   ]
  },
  {
   "cell_type": "code",
   "execution_count": 7,
   "metadata": {
    "collapsed": false
   },
   "outputs": [],
   "source": [
    "caltrain_access = pd.merge(walk_access, caltrain_stops, on='stop_id')"
   ]
  },
  {
   "cell_type": "code",
   "execution_count": 8,
   "metadata": {
    "collapsed": false
   },
   "outputs": [
    {
     "data": {
      "text/html": [
       "<div>\n",
       "<table border=\"1\" class=\"dataframe\">\n",
       "  <thead>\n",
       "    <tr style=\"text-align: right;\">\n",
       "      <th></th>\n",
       "      <th>taz</th>\n",
       "      <th>stop_id</th>\n",
       "      <th>dist</th>\n",
       "      <th>elevation_gain</th>\n",
       "      <th>population_density</th>\n",
       "      <th>employment_density</th>\n",
       "      <th>auto_capacity</th>\n",
       "      <th>indirectness</th>\n",
       "      <th>stop_name</th>\n",
       "      <th>stop_lat</th>\n",
       "      <th>stop_lon</th>\n",
       "      <th>zone_id</th>\n",
       "    </tr>\n",
       "  </thead>\n",
       "  <tbody>\n",
       "    <tr>\n",
       "      <th>173</th>\n",
       "      <td>1317</td>\n",
       "      <td>14670</td>\n",
       "      <td>0.53</td>\n",
       "      <td>0.0</td>\n",
       "      <td>6.855331</td>\n",
       "      <td>25.935342</td>\n",
       "      <td>3800.0</td>\n",
       "      <td>1.188806</td>\n",
       "      <td>CT Redwood City</td>\n",
       "      <td>37.485785</td>\n",
       "      <td>-122.233708</td>\n",
       "      <td>CT Redwood City</td>\n",
       "    </tr>\n",
       "  </tbody>\n",
       "</table>\n",
       "</div>"
      ],
      "text/plain": [
       "      taz  stop_id  dist  elevation_gain  population_density  \\\n",
       "173  1317    14670  0.53             0.0            6.855331   \n",
       "\n",
       "     employment_density  auto_capacity  indirectness        stop_name  \\\n",
       "173           25.935342         3800.0      1.188806  CT Redwood City   \n",
       "\n",
       "      stop_lat    stop_lon          zone_id  \n",
       "173  37.485785 -122.233708  CT Redwood City  "
      ]
     },
     "execution_count": 8,
     "metadata": {},
     "output_type": "execute_result"
    }
   ],
   "source": [
    "# otaz = 575, dtaz = 1317\n",
    "caltrain_access.loc[caltrain_access['taz'].isin([575,1317])]"
   ]
  },
  {
   "cell_type": "code",
   "execution_count": 19,
   "metadata": {
    "collapsed": false
   },
   "outputs": [
    {
     "data": {
      "text/html": [
       "<div>\n",
       "<table border=\"1\" class=\"dataframe\">\n",
       "  <thead>\n",
       "    <tr style=\"text-align: right;\">\n",
       "      <th></th>\n",
       "      <th>from_stop_id</th>\n",
       "      <th>to_stop_id</th>\n",
       "      <th>transfer_type</th>\n",
       "      <th>min_transfer_time</th>\n",
       "    </tr>\n",
       "  </thead>\n",
       "  <tbody>\n",
       "  </tbody>\n",
       "</table>\n",
       "</div>"
      ],
      "text/plain": [
       "Empty DataFrame\n",
       "Columns: [from_stop_id, to_stop_id, transfer_type, min_transfer_time]\n",
       "Index: []"
      ]
     },
     "execution_count": 19,
     "metadata": {},
     "output_type": "execute_result"
    }
   ],
   "source": [
    "# 4th / King, stop_id = 14655\n",
    "# Transfers to 4th / King\n",
    "transfers.loc[transfers['to_stop_id'].eq(14655),:]"
   ]
  },
  {
   "cell_type": "code",
   "execution_count": 20,
   "metadata": {
    "collapsed": false
   },
   "outputs": [
    {
     "data": {
      "text/html": [
       "<div>\n",
       "<table border=\"1\" class=\"dataframe\">\n",
       "  <thead>\n",
       "    <tr style=\"text-align: right;\">\n",
       "      <th></th>\n",
       "      <th>from_stop_id</th>\n",
       "      <th>to_stop_id</th>\n",
       "      <th>transfer_type</th>\n",
       "      <th>min_transfer_time</th>\n",
       "    </tr>\n",
       "  </thead>\n",
       "  <tbody>\n",
       "    <tr>\n",
       "      <th>879</th>\n",
       "      <td>14655</td>\n",
       "      <td>23823</td>\n",
       "      <td>NaN</td>\n",
       "      <td>NaN</td>\n",
       "    </tr>\n",
       "    <tr>\n",
       "      <th>4778</th>\n",
       "      <td>14655</td>\n",
       "      <td>23834</td>\n",
       "      <td>NaN</td>\n",
       "      <td>NaN</td>\n",
       "    </tr>\n",
       "    <tr>\n",
       "      <th>5284</th>\n",
       "      <td>14655</td>\n",
       "      <td>23821</td>\n",
       "      <td>NaN</td>\n",
       "      <td>NaN</td>\n",
       "    </tr>\n",
       "    <tr>\n",
       "      <th>6016</th>\n",
       "      <td>14655</td>\n",
       "      <td>23807</td>\n",
       "      <td>NaN</td>\n",
       "      <td>NaN</td>\n",
       "    </tr>\n",
       "    <tr>\n",
       "      <th>9182</th>\n",
       "      <td>14655</td>\n",
       "      <td>54004</td>\n",
       "      <td>NaN</td>\n",
       "      <td>NaN</td>\n",
       "    </tr>\n",
       "    <tr>\n",
       "      <th>9315</th>\n",
       "      <td>14655</td>\n",
       "      <td>23820</td>\n",
       "      <td>NaN</td>\n",
       "      <td>NaN</td>\n",
       "    </tr>\n",
       "    <tr>\n",
       "      <th>9534</th>\n",
       "      <td>14655</td>\n",
       "      <td>23827</td>\n",
       "      <td>NaN</td>\n",
       "      <td>NaN</td>\n",
       "    </tr>\n",
       "  </tbody>\n",
       "</table>\n",
       "</div>"
      ],
      "text/plain": [
       "      from_stop_id  to_stop_id  transfer_type  min_transfer_time\n",
       "879          14655       23823            NaN                NaN\n",
       "4778         14655       23834            NaN                NaN\n",
       "5284         14655       23821            NaN                NaN\n",
       "6016         14655       23807            NaN                NaN\n",
       "9182         14655       54004            NaN                NaN\n",
       "9315         14655       23820            NaN                NaN\n",
       "9534         14655       23827            NaN                NaN"
      ]
     },
     "execution_count": 20,
     "metadata": {},
     "output_type": "execute_result"
    }
   ],
   "source": [
    "# Transfers from 4th / King\n",
    "transfers.loc[transfers['from_stop_id'].eq(14655),:]"
   ]
  }
 ],
 "metadata": {
  "kernelspec": {
   "display_name": "Python [Root]",
   "language": "python",
   "name": "Python [Root]"
  },
  "language_info": {
   "codemirror_mode": {
    "name": "ipython",
    "version": 2
   },
   "file_extension": ".py",
   "mimetype": "text/x-python",
   "name": "python",
   "nbconvert_exporter": "python",
   "pygments_lexer": "ipython2",
   "version": "2.7.12"
  }
 },
 "nbformat": 4,
 "nbformat_minor": 0
}
