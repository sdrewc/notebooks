{
 "cells": [
  {
   "cell_type": "code",
   "execution_count": 2,
   "metadata": {
    "collapsed": true
   },
   "outputs": [],
   "source": [
    "import sys, os\n",
    "import numpy as np\n",
    "import pandas as pd"
   ]
  },
  {
   "cell_type": "code",
   "execution_count": 3,
   "metadata": {
    "collapsed": true
   },
   "outputs": [],
   "source": [
    "INDIR = r'C:\\Users\\sdrew_000\\Downloads\\network_draft1.9\\network_draft1.9'"
   ]
  },
  {
   "cell_type": "code",
   "execution_count": 4,
   "metadata": {
    "collapsed": true
   },
   "outputs": [],
   "source": [
    "walk_access = pd.read_csv(os.path.join(INDIR,'walk_access_ft.txt'))\n",
    "routes = pd.read_csv(os.path.join(INDIR,'routes.txt'))\n",
    "stop_times = pd.read_csv(os.path.join(INDIR,'stop_times.txt'))\n",
    "stops = pd.read_csv(os.path.join(INDIR,'stops.txt'))\n",
    "trips = pd.read_csv(os.path.join(INDIR,'trips.txt'))"
   ]
  },
  {
   "cell_type": "code",
   "execution_count": 15,
   "metadata": {
    "collapsed": false
   },
   "outputs": [],
   "source": [
    "caltrain_routes = routes.loc[routes['agency_id'].eq('caltrain')]['route_id'].tolist()"
   ]
  },
  {
   "cell_type": "code",
   "execution_count": 16,
   "metadata": {
    "collapsed": false
   },
   "outputs": [],
   "source": [
    "caltrain_stops_all = pd.merge(trips.loc[trips['route_id'].isin(caltrain_routes)],stop_times, on='trip_id')"
   ]
  },
  {
   "cell_type": "code",
   "execution_count": 17,
   "metadata": {
    "collapsed": false
   },
   "outputs": [],
   "source": [
    "caltrain_stops = stops.loc[stops['stop_id'].isin(caltrain_stops_all['stop_id'].drop_duplicates().tolist()),:]"
   ]
  },
  {
   "cell_type": "code",
   "execution_count": 19,
   "metadata": {
    "collapsed": false
   },
   "outputs": [],
   "source": [
    "caltrain_access = pd.merge(walk_access, caltrain_stops, on='stop_id')"
   ]
  },
  {
   "cell_type": "code",
   "execution_count": 21,
   "metadata": {
    "collapsed": false
   },
   "outputs": [
    {
     "data": {
      "text/html": [
       "<div>\n",
       "<table border=\"1\" class=\"dataframe\">\n",
       "  <thead>\n",
       "    <tr style=\"text-align: right;\">\n",
       "      <th></th>\n",
       "      <th>taz</th>\n",
       "      <th>stop_id</th>\n",
       "      <th>dist</th>\n",
       "      <th>elevation_gain</th>\n",
       "      <th>population_density</th>\n",
       "      <th>employment_density</th>\n",
       "      <th>auto_capacity</th>\n",
       "      <th>indirectness</th>\n",
       "      <th>stop_name</th>\n",
       "      <th>stop_lat</th>\n",
       "      <th>stop_lon</th>\n",
       "      <th>zone_id</th>\n",
       "    </tr>\n",
       "  </thead>\n",
       "  <tbody>\n",
       "    <tr>\n",
       "      <th>173</th>\n",
       "      <td>1317</td>\n",
       "      <td>14670</td>\n",
       "      <td>0.53</td>\n",
       "      <td>0.0</td>\n",
       "      <td>6.855331</td>\n",
       "      <td>25.935342</td>\n",
       "      <td>3800.0</td>\n",
       "      <td>1.188806</td>\n",
       "      <td>CT Redwood City</td>\n",
       "      <td>37.485785</td>\n",
       "      <td>-122.233708</td>\n",
       "      <td>CT Redwood City</td>\n",
       "    </tr>\n",
       "  </tbody>\n",
       "</table>\n",
       "</div>"
      ],
      "text/plain": [
       "      taz  stop_id  dist  elevation_gain  population_density  \\\n",
       "173  1317    14670  0.53             0.0            6.855331   \n",
       "\n",
       "     employment_density  auto_capacity  indirectness        stop_name  \\\n",
       "173           25.935342         3800.0      1.188806  CT Redwood City   \n",
       "\n",
       "      stop_lat    stop_lon          zone_id  \n",
       "173  37.485785 -122.233708  CT Redwood City  "
      ]
     },
     "execution_count": 21,
     "metadata": {},
     "output_type": "execute_result"
    }
   ],
   "source": [
    "caltrain_access.loc[caltrain_access['taz'].isin([575,1317])]"
   ]
  }
 ],
 "metadata": {
  "kernelspec": {
   "display_name": "Python [Root]",
   "language": "python",
   "name": "Python [Root]"
  },
  "language_info": {
   "codemirror_mode": {
    "name": "ipython",
    "version": 2
   },
   "file_extension": ".py",
   "mimetype": "text/x-python",
   "name": "python",
   "nbconvert_exporter": "python",
   "pygments_lexer": "ipython2",
   "version": "2.7.12"
  }
 },
 "nbformat": 4,
 "nbformat_minor": 0
}
