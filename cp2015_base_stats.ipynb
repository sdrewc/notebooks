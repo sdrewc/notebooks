{
 "cells": [
  {
   "cell_type": "code",
   "execution_count": 1,
   "id": "framed-teacher",
   "metadata": {},
   "outputs": [],
   "source": [
    "import sys, os\n",
    "import numpy as np\n",
    "import pandas as pd\n",
    "\n",
    "import matplotlib.pyplot as plt"
   ]
  },
  {
   "cell_type": "code",
   "execution_count": 2,
   "id": "variable-living",
   "metadata": {},
   "outputs": [],
   "source": [
    "INDIR = r'..\\UC Davis\\2015_Base'"
   ]
  },
  {
   "cell_type": "code",
   "execution_count": 3,
   "id": "innovative-temple",
   "metadata": {},
   "outputs": [],
   "source": [
    "hh = pd.read_csv(os.path.join(INDIR,'_household_3.dat'), sep='\\t')\n",
    "trips = pd.read_csv(os.path.join(INDIR,'_trip_3.dat'), sep='\\t')"
   ]
  },
  {
   "cell_type": "code",
   "execution_count": 4,
   "id": "parliamentary-start",
   "metadata": {},
   "outputs": [],
   "source": [
    "trips = pd.merge(hh[['hhno','income_group_ami','hhdist','hhvehs']], trips, on='hhno')"
   ]
  },
  {
   "cell_type": "code",
   "execution_count": 5,
   "id": "limiting-deviation",
   "metadata": {},
   "outputs": [],
   "source": [
    "tours = (trips.groupby(['hhno','income_group_ami','hhdist','hhvehs','tour_id'], as_index=False)\n",
    "              .agg({'travdist':'sum','travcost':'sum','travtime':'sum','trexpfac':'sum'})\n",
    "              .rename(columns={'trexpfac':'trips'}))"
   ]
  },
  {
   "cell_type": "code",
   "execution_count": 6,
   "id": "acknowledged-lucas",
   "metadata": {},
   "outputs": [],
   "source": [
    "tours['tours'] = 1"
   ]
  },
  {
   "cell_type": "code",
   "execution_count": 7,
   "id": "eastern-following",
   "metadata": {},
   "outputs": [],
   "source": [
    "by_income = (tours.groupby('income_group_ami')\n",
    "                  .agg({'travdist':'sum','travcost':'sum','travtime':'sum','trips':'sum','tours':'sum','hhno':'nunique'})\n",
    "                  .rename(columns={'hhno':'households'}))"
   ]
  },
  {
   "cell_type": "code",
   "execution_count": 8,
   "id": "specified-cincinnati",
   "metadata": {},
   "outputs": [],
   "source": [
    "by_income['trips_per_tour'] = by_income['trips'] / by_income['tours']\n",
    "by_income['avg_tour_travcost'] = by_income['travcost'] / by_income['tours']\n",
    "by_income['avg_trip_travcost'] = by_income['travcost'] / by_income['trips']"
   ]
  },
  {
   "cell_type": "code",
   "execution_count": 9,
   "id": "artificial-quantum",
   "metadata": {},
   "outputs": [
    {
     "data": {
      "text/html": [
       "<div>\n",
       "<style scoped>\n",
       "    .dataframe tbody tr th:only-of-type {\n",
       "        vertical-align: middle;\n",
       "    }\n",
       "\n",
       "    .dataframe tbody tr th {\n",
       "        vertical-align: top;\n",
       "    }\n",
       "\n",
       "    .dataframe thead th {\n",
       "        text-align: right;\n",
       "    }\n",
       "</style>\n",
       "<table border=\"1\" class=\"dataframe\">\n",
       "  <thead>\n",
       "    <tr style=\"text-align: right;\">\n",
       "      <th></th>\n",
       "      <th>travdist</th>\n",
       "      <th>travcost</th>\n",
       "      <th>travtime</th>\n",
       "      <th>trips</th>\n",
       "      <th>tours</th>\n",
       "      <th>households</th>\n",
       "      <th>trips_per_tour</th>\n",
       "      <th>avg_tour_travcost</th>\n",
       "      <th>avg_trip_travcost</th>\n",
       "    </tr>\n",
       "    <tr>\n",
       "      <th>income_group_ami</th>\n",
       "      <th></th>\n",
       "      <th></th>\n",
       "      <th></th>\n",
       "      <th></th>\n",
       "      <th></th>\n",
       "      <th></th>\n",
       "      <th></th>\n",
       "      <th></th>\n",
       "      <th></th>\n",
       "    </tr>\n",
       "  </thead>\n",
       "  <tbody>\n",
       "    <tr>\n",
       "      <th>very_low</th>\n",
       "      <td>27746336.44</td>\n",
       "      <td>3688522.57</td>\n",
       "      <td>9.367926e+07</td>\n",
       "      <td>5402047</td>\n",
       "      <td>2210025</td>\n",
       "      <td>704374</td>\n",
       "      <td>2.44</td>\n",
       "      <td>1.67</td>\n",
       "      <td>0.68</td>\n",
       "    </tr>\n",
       "    <tr>\n",
       "      <th>low</th>\n",
       "      <td>19714160.70</td>\n",
       "      <td>2627281.66</td>\n",
       "      <td>5.668268e+07</td>\n",
       "      <td>3151129</td>\n",
       "      <td>1263228</td>\n",
       "      <td>331888</td>\n",
       "      <td>2.49</td>\n",
       "      <td>2.08</td>\n",
       "      <td>0.83</td>\n",
       "    </tr>\n",
       "    <tr>\n",
       "      <th>moderate</th>\n",
       "      <td>32987163.77</td>\n",
       "      <td>4402553.13</td>\n",
       "      <td>9.089749e+07</td>\n",
       "      <td>4845063</td>\n",
       "      <td>1923312</td>\n",
       "      <td>481795</td>\n",
       "      <td>2.52</td>\n",
       "      <td>2.29</td>\n",
       "      <td>0.91</td>\n",
       "    </tr>\n",
       "    <tr>\n",
       "      <th>middle</th>\n",
       "      <td>15332280.47</td>\n",
       "      <td>2047693.57</td>\n",
       "      <td>4.104363e+07</td>\n",
       "      <td>2133450</td>\n",
       "      <td>841023</td>\n",
       "      <td>210298</td>\n",
       "      <td>2.54</td>\n",
       "      <td>2.43</td>\n",
       "      <td>0.96</td>\n",
       "    </tr>\n",
       "    <tr>\n",
       "      <th>high</th>\n",
       "      <td>70471517.84</td>\n",
       "      <td>9549709.05</td>\n",
       "      <td>1.865015e+08</td>\n",
       "      <td>9514527</td>\n",
       "      <td>3717400</td>\n",
       "      <td>925726</td>\n",
       "      <td>2.56</td>\n",
       "      <td>2.57</td>\n",
       "      <td>1.00</td>\n",
       "    </tr>\n",
       "  </tbody>\n",
       "</table>\n",
       "</div>"
      ],
      "text/plain": [
       "                     travdist    travcost      travtime    trips    tours  \\\n",
       "income_group_ami                                                            \n",
       "very_low          27746336.44  3688522.57  9.367926e+07  5402047  2210025   \n",
       "low               19714160.70  2627281.66  5.668268e+07  3151129  1263228   \n",
       "moderate          32987163.77  4402553.13  9.089749e+07  4845063  1923312   \n",
       "middle            15332280.47  2047693.57  4.104363e+07  2133450   841023   \n",
       "high              70471517.84  9549709.05  1.865015e+08  9514527  3717400   \n",
       "\n",
       "                  households  trips_per_tour  avg_tour_travcost  \\\n",
       "income_group_ami                                                  \n",
       "very_low              704374            2.44               1.67   \n",
       "low                   331888            2.49               2.08   \n",
       "moderate              481795            2.52               2.29   \n",
       "middle                210298            2.54               2.43   \n",
       "high                  925726            2.56               2.57   \n",
       "\n",
       "                  avg_trip_travcost  \n",
       "income_group_ami                     \n",
       "very_low                       0.68  \n",
       "low                            0.83  \n",
       "moderate                       0.91  \n",
       "middle                         0.96  \n",
       "high                           1.00  "
      ]
     },
     "execution_count": 9,
     "metadata": {},
     "output_type": "execute_result"
    }
   ],
   "source": [
    "by_income.loc[['very_low','low','moderate','middle','high'],:].round(2)"
   ]
  }
 ],
 "metadata": {
  "kernelspec": {
   "display_name": "Python 3",
   "language": "python",
   "name": "python3"
  },
  "language_info": {
   "codemirror_mode": {
    "name": "ipython",
    "version": 3
   },
   "file_extension": ".py",
   "mimetype": "text/x-python",
   "name": "python",
   "nbconvert_exporter": "python",
   "pygments_lexer": "ipython3",
   "version": "3.6.5"
  }
 },
 "nbformat": 4,
 "nbformat_minor": 5
}
