{
 "cells": [
  {
   "cell_type": "code",
   "execution_count": 1,
   "metadata": {
    "collapsed": true
   },
   "outputs": [],
   "source": [
    "import sys, os\n",
    "import numpy as np\n",
    "import pandas as pd"
   ]
  },
  {
   "cell_type": "code",
   "execution_count": 2,
   "metadata": {
    "collapsed": true
   },
   "outputs": [],
   "source": [
    "INDIR = r'Q:\\Model Development\\SHRP2-fasttrips\\Task2\\built_fasttrips_network_2012Base\\draft1.9'"
   ]
  },
  {
   "cell_type": "code",
   "execution_count": 3,
   "metadata": {
    "collapsed": true
   },
   "outputs": [],
   "source": [
    "walk_access = pd.read_csv(os.path.join(INDIR,'walk_access_ft.txt'))\n",
    "routes = pd.read_csv(os.path.join(INDIR,'routes.txt'))\n",
    "stop_times = pd.read_csv(os.path.join(INDIR,'stop_times.txt'))\n",
    "stops = pd.read_csv(os.path.join(INDIR,'stops.txt'))\n",
    "trips = pd.read_csv(os.path.join(INDIR,'trips.txt'))\n",
    "transfers = pd.read_csv(os.path.join(INDIR,'transfers.txt'))"
   ]
  },
  {
   "cell_type": "code",
   "execution_count": 4,
   "metadata": {
    "collapsed": false
   },
   "outputs": [
    {
     "data": {
      "text/html": [
       "<div>\n",
       "<table border=\"1\" class=\"dataframe\">\n",
       "  <thead>\n",
       "    <tr style=\"text-align: right;\">\n",
       "      <th></th>\n",
       "      <th>from_stop_id_x</th>\n",
       "      <th>to_stop_id_x</th>\n",
       "      <th>transfer_type_x</th>\n",
       "      <th>min_transfer_time_x</th>\n",
       "      <th>from_stop_id_y</th>\n",
       "      <th>to_stop_id_y</th>\n",
       "      <th>transfer_type_y</th>\n",
       "      <th>min_transfer_time_y</th>\n",
       "    </tr>\n",
       "  </thead>\n",
       "  <tbody>\n",
       "  </tbody>\n",
       "</table>\n",
       "</div>"
      ],
      "text/plain": [
       "Empty DataFrame\n",
       "Columns: [from_stop_id_x, to_stop_id_x, transfer_type_x, min_transfer_time_x, from_stop_id_y, to_stop_id_y, transfer_type_y, min_transfer_time_y]\n",
       "Index: []"
      ]
     },
     "execution_count": 4,
     "metadata": {},
     "output_type": "execute_result"
    }
   ],
   "source": [
    "pd.merge(transfers, transfers, left_on=['from_stop_id','to_stop_id'], right_on=['to_stop_id','from_stop_id'])"
   ]
  }
 ],
 "metadata": {
  "kernelspec": {
   "display_name": "Python [Root]",
   "language": "python",
   "name": "Python [Root]"
  },
  "language_info": {
   "codemirror_mode": {
    "name": "ipython",
    "version": 2
   },
   "file_extension": ".py",
   "mimetype": "text/x-python",
   "name": "python",
   "nbconvert_exporter": "python",
   "pygments_lexer": "ipython2",
   "version": "2.7.12"
  }
 },
 "nbformat": 4,
 "nbformat_minor": 0
}
